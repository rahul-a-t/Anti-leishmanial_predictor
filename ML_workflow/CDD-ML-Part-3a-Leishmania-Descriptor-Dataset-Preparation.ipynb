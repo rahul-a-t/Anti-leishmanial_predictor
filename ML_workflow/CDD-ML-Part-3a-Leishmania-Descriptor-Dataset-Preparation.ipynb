{
 "cells": [
  {
   "cell_type": "markdown",
   "metadata": {
    "id": "l0Y7_lgN4jzM"
   },
   "source": [
    "# **Bioinformatics Project - Computational Drug Discovery [Part 3] Descriptor Calculation and Dataset Preparation**\n",
    "\n",
    "In this Jupyter notebook, we will be building a real-life **data science project** that you can include in your **data science portfolio**. Particularly, we will be building a machine learning model using the ChEMBL bioactivity data.\n",
    "\n",
    "In **Part 3**, we will be calculating molecular descriptors that are essentially quantitative description of the compounds in the dataset. Finally, we will be preparing this into a dataset for subsequent model building in Part 4.\n",
    "\n",
    "---"
   ]
  },
  {
   "cell_type": "code",
   "execution_count": 1,
   "metadata": {
    "colab": {
     "base_uri": "https://localhost:8080/"
    },
    "executionInfo": {
     "elapsed": 29046,
     "status": "ok",
     "timestamp": 1675166542305,
     "user": {
      "displayName": "rahul-a-t",
      "userId": "13570130994512892155"
     },
     "user_tz": -330
    },
    "id": "XGMcBbuTZz55",
    "outputId": "5c6df261-9973-4bd9-f6b9-2421035b2694"
   },
   "outputs": [
    {
     "name": "stdout",
     "output_type": "stream",
     "text": [
      "Mounted at /content/drive\n"
     ]
    }
   ],
   "source": [
    "from google.colab import drive\n",
    "drive.mount('/content/drive')"
   ]
  },
  {
   "cell_type": "markdown",
   "metadata": {
    "id": "o-4IOizard4P"
   },
   "source": [
    "## **Download PaDEL-Descriptor**"
   ]
  },
  {
   "cell_type": "code",
   "execution_count": null,
   "metadata": {
    "id": "H0mjQ2PcrSe5"
   },
   "outputs": [],
   "source": [
    "# ! wget https://github.com/dataprofessor/bioinformatics/raw/master/padel.zip\n",
    "# ! wget https://github.com/dataprofessor/bioinformatics/raw/master/padel.sh"
   ]
  },
  {
   "cell_type": "code",
   "execution_count": null,
   "metadata": {
    "id": "64HnTL4tS-nA"
   },
   "outputs": [],
   "source": [
    "# ! unzip padel.zip"
   ]
  },
  {
   "cell_type": "markdown",
   "metadata": {
    "id": "QmxXXFa4wTNG"
   },
   "source": [
    "## **Load bioactivity data**"
   ]
  },
  {
   "cell_type": "markdown",
   "metadata": {
    "id": "fcBvxkPWKFRV"
   },
   "source": [
    "Download the curated ChEMBL bioactivity data that has been pre-processed from Parts 1 and 2 of this Bioinformatics Project series. Here we will be using the **bioactivity_data_3class_pIC50.csv** file that essentially contain the pIC50 values that we will be using for building a regression model."
   ]
  },
  {
   "cell_type": "code",
   "execution_count": null,
   "metadata": {
    "id": "JBs7QdJoubWC"
   },
   "outputs": [],
   "source": [
    "# ! wget https://raw.githubusercontent.com/dataprofessor/data/master/acetylcholinesterase_04_bioactivity_data_3class_pIC50.csv"
   ]
  },
  {
   "cell_type": "code",
   "execution_count": null,
   "metadata": {
    "id": "eE2D3Nyhyk5Y"
   },
   "outputs": [],
   "source": []
  },
  {
   "cell_type": "code",
   "execution_count": 2,
   "metadata": {
    "executionInfo": {
     "elapsed": 9,
     "status": "ok",
     "timestamp": 1675166542306,
     "user": {
      "displayName": "rahul-a-t",
      "userId": "13570130994512892155"
     },
     "user_tz": -330
    },
    "id": "Fpu5C7HlwV9s"
   },
   "outputs": [],
   "source": [
    "import pandas as pd"
   ]
  },
  {
   "cell_type": "code",
   "execution_count": 3,
   "metadata": {
    "executionInfo": {
     "elapsed": 2557,
     "status": "ok",
     "timestamp": 1675166544856,
     "user": {
      "displayName": "rahul-a-t",
      "userId": "13570130994512892155"
     },
     "user_tz": -330
    },
    "id": "GCcE8J5XwjtB"
   },
   "outputs": [],
   "source": [
    "df3 = pd.read_csv('/content/drive/MyDrive/Project_Msc/Project/pIC50_data/Leishmania_04_bioactivity_data_3class_pIC50.csv')"
   ]
  },
  {
   "cell_type": "code",
   "execution_count": 4,
   "metadata": {
    "colab": {
     "base_uri": "https://localhost:8080/",
     "height": 502
    },
    "executionInfo": {
     "elapsed": 12,
     "status": "ok",
     "timestamp": 1675166547838,
     "user": {
      "displayName": "rahul-a-t",
      "userId": "13570130994512892155"
     },
     "user_tz": -330
    },
    "id": "60z_N6egNiSJ",
    "outputId": "854ea69c-208d-463e-a816-3aecb14a4bc6"
   },
   "outputs": [
    {
     "data": {
      "text/html": [
       "\n",
       "  <div id=\"df-c1bf545a-4904-46ea-b54d-07c4a97c842d\">\n",
       "    <div class=\"colab-df-container\">\n",
       "      <div>\n",
       "<style scoped>\n",
       "    .dataframe tbody tr th:only-of-type {\n",
       "        vertical-align: middle;\n",
       "    }\n",
       "\n",
       "    .dataframe tbody tr th {\n",
       "        vertical-align: top;\n",
       "    }\n",
       "\n",
       "    .dataframe thead th {\n",
       "        text-align: right;\n",
       "    }\n",
       "</style>\n",
       "<table border=\"1\" class=\"dataframe\">\n",
       "  <thead>\n",
       "    <tr style=\"text-align: right;\">\n",
       "      <th></th>\n",
       "      <th>molecule_chembl_id</th>\n",
       "      <th>canonical_smiles</th>\n",
       "      <th>class</th>\n",
       "      <th>MW</th>\n",
       "      <th>LogP</th>\n",
       "      <th>NumHDonors</th>\n",
       "      <th>NumHAcceptors</th>\n",
       "      <th>pIC50</th>\n",
       "    </tr>\n",
       "  </thead>\n",
       "  <tbody>\n",
       "    <tr>\n",
       "      <th>0</th>\n",
       "      <td>CHEMBL164580</td>\n",
       "      <td>C[N+]1(CCOP(=O)([O-])OCCOC2CCCCC2)CCOCC1</td>\n",
       "      <td>inactive</td>\n",
       "      <td>351.380</td>\n",
       "      <td>1.31410</td>\n",
       "      <td>0.0</td>\n",
       "      <td>6.0</td>\n",
       "      <td>4.000000</td>\n",
       "    </tr>\n",
       "    <tr>\n",
       "      <th>1</th>\n",
       "      <td>CHEMBL166314</td>\n",
       "      <td>C[N+](C)(C)CCOP(=O)([O-])OCCCCCC12CC3CC(CC(C3)...</td>\n",
       "      <td>intermediate</td>\n",
       "      <td>387.501</td>\n",
       "      <td>3.97100</td>\n",
       "      <td>0.0</td>\n",
       "      <td>4.0</td>\n",
       "      <td>5.395774</td>\n",
       "    </tr>\n",
       "    <tr>\n",
       "      <th>2</th>\n",
       "      <td>CHEMBL165097</td>\n",
       "      <td>C[N+](C)(C)CCOP(=O)([O-])OCCCCC=C1CCCCC1</td>\n",
       "      <td>inactive</td>\n",
       "      <td>333.409</td>\n",
       "      <td>3.25500</td>\n",
       "      <td>0.0</td>\n",
       "      <td>4.0</td>\n",
       "      <td>4.000000</td>\n",
       "    </tr>\n",
       "    <tr>\n",
       "      <th>3</th>\n",
       "      <td>CHEMBL166092</td>\n",
       "      <td>C[N+](C)(C)CCOP(=O)([O-])OCCCCCCCCCCC=C1C2CC3C...</td>\n",
       "      <td>intermediate</td>\n",
       "      <td>469.647</td>\n",
       "      <td>6.08760</td>\n",
       "      <td>0.0</td>\n",
       "      <td>4.0</td>\n",
       "      <td>5.500313</td>\n",
       "    </tr>\n",
       "    <tr>\n",
       "      <th>4</th>\n",
       "      <td>CHEMBL349670</td>\n",
       "      <td>C[N+](C)(C)CCOP(=O)([O-])OCCOc1ccc2ccccc2c1</td>\n",
       "      <td>inactive</td>\n",
       "      <td>353.355</td>\n",
       "      <td>2.42640</td>\n",
       "      <td>0.0</td>\n",
       "      <td>5.0</td>\n",
       "      <td>4.000000</td>\n",
       "    </tr>\n",
       "    <tr>\n",
       "      <th>...</th>\n",
       "      <td>...</td>\n",
       "      <td>...</td>\n",
       "      <td>...</td>\n",
       "      <td>...</td>\n",
       "      <td>...</td>\n",
       "      <td>...</td>\n",
       "      <td>...</td>\n",
       "      <td>...</td>\n",
       "    </tr>\n",
       "    <tr>\n",
       "      <th>6486</th>\n",
       "      <td>CHEMBL4873840</td>\n",
       "      <td>N=C(N)Nc1ccc2[nH]c(-c3csc4ccccc34)nc2c1</td>\n",
       "      <td>active</td>\n",
       "      <td>307.382</td>\n",
       "      <td>3.74997</td>\n",
       "      <td>4.0</td>\n",
       "      <td>3.0</td>\n",
       "      <td>7.232102</td>\n",
       "    </tr>\n",
       "    <tr>\n",
       "      <th>6487</th>\n",
       "      <td>CHEMBL4876357</td>\n",
       "      <td>N=C(N)Nc1ccc2[nH]c(-c3ccc(-c4cccs4)s3)nc2c1</td>\n",
       "      <td>active</td>\n",
       "      <td>339.449</td>\n",
       "      <td>4.32527</td>\n",
       "      <td>4.0</td>\n",
       "      <td>4.0</td>\n",
       "      <td>7.423659</td>\n",
       "    </tr>\n",
       "    <tr>\n",
       "      <th>6488</th>\n",
       "      <td>CHEMBL4862955</td>\n",
       "      <td>N=C(N)Nc1ccc2[nH]c(-c3ccc(-c4ccccc4)s3)nc2c1</td>\n",
       "      <td>active</td>\n",
       "      <td>333.420</td>\n",
       "      <td>4.26377</td>\n",
       "      <td>4.0</td>\n",
       "      <td>3.0</td>\n",
       "      <td>7.356547</td>\n",
       "    </tr>\n",
       "    <tr>\n",
       "      <th>6489</th>\n",
       "      <td>CHEMBL4849996</td>\n",
       "      <td>N=C(N)Nc1ccc2[nH]c(-c3cc(-c4ccc(Cl)cc4)on3)nc2c1</td>\n",
       "      <td>active</td>\n",
       "      <td>352.785</td>\n",
       "      <td>3.84367</td>\n",
       "      <td>4.0</td>\n",
       "      <td>4.0</td>\n",
       "      <td>8.113509</td>\n",
       "    </tr>\n",
       "    <tr>\n",
       "      <th>6490</th>\n",
       "      <td>CHEMBL4857629</td>\n",
       "      <td>Cc1ncsc1-c1nc2cc(NC(=N)N)ccc2[nH]1</td>\n",
       "      <td>active</td>\n",
       "      <td>272.337</td>\n",
       "      <td>2.30019</td>\n",
       "      <td>4.0</td>\n",
       "      <td>4.0</td>\n",
       "      <td>7.044793</td>\n",
       "    </tr>\n",
       "  </tbody>\n",
       "</table>\n",
       "<p>6491 rows × 8 columns</p>\n",
       "</div>\n",
       "      <button class=\"colab-df-convert\" onclick=\"convertToInteractive('df-c1bf545a-4904-46ea-b54d-07c4a97c842d')\"\n",
       "              title=\"Convert this dataframe to an interactive table.\"\n",
       "              style=\"display:none;\">\n",
       "        \n",
       "  <svg xmlns=\"http://www.w3.org/2000/svg\" height=\"24px\"viewBox=\"0 0 24 24\"\n",
       "       width=\"24px\">\n",
       "    <path d=\"M0 0h24v24H0V0z\" fill=\"none\"/>\n",
       "    <path d=\"M18.56 5.44l.94 2.06.94-2.06 2.06-.94-2.06-.94-.94-2.06-.94 2.06-2.06.94zm-11 1L8.5 8.5l.94-2.06 2.06-.94-2.06-.94L8.5 2.5l-.94 2.06-2.06.94zm10 10l.94 2.06.94-2.06 2.06-.94-2.06-.94-.94-2.06-.94 2.06-2.06.94z\"/><path d=\"M17.41 7.96l-1.37-1.37c-.4-.4-.92-.59-1.43-.59-.52 0-1.04.2-1.43.59L10.3 9.45l-7.72 7.72c-.78.78-.78 2.05 0 2.83L4 21.41c.39.39.9.59 1.41.59.51 0 1.02-.2 1.41-.59l7.78-7.78 2.81-2.81c.8-.78.8-2.07 0-2.86zM5.41 20L4 18.59l7.72-7.72 1.47 1.35L5.41 20z\"/>\n",
       "  </svg>\n",
       "      </button>\n",
       "      \n",
       "  <style>\n",
       "    .colab-df-container {\n",
       "      display:flex;\n",
       "      flex-wrap:wrap;\n",
       "      gap: 12px;\n",
       "    }\n",
       "\n",
       "    .colab-df-convert {\n",
       "      background-color: #E8F0FE;\n",
       "      border: none;\n",
       "      border-radius: 50%;\n",
       "      cursor: pointer;\n",
       "      display: none;\n",
       "      fill: #1967D2;\n",
       "      height: 32px;\n",
       "      padding: 0 0 0 0;\n",
       "      width: 32px;\n",
       "    }\n",
       "\n",
       "    .colab-df-convert:hover {\n",
       "      background-color: #E2EBFA;\n",
       "      box-shadow: 0px 1px 2px rgba(60, 64, 67, 0.3), 0px 1px 3px 1px rgba(60, 64, 67, 0.15);\n",
       "      fill: #174EA6;\n",
       "    }\n",
       "\n",
       "    [theme=dark] .colab-df-convert {\n",
       "      background-color: #3B4455;\n",
       "      fill: #D2E3FC;\n",
       "    }\n",
       "\n",
       "    [theme=dark] .colab-df-convert:hover {\n",
       "      background-color: #434B5C;\n",
       "      box-shadow: 0px 1px 3px 1px rgba(0, 0, 0, 0.15);\n",
       "      filter: drop-shadow(0px 1px 2px rgba(0, 0, 0, 0.3));\n",
       "      fill: #FFFFFF;\n",
       "    }\n",
       "  </style>\n",
       "\n",
       "      <script>\n",
       "        const buttonEl =\n",
       "          document.querySelector('#df-c1bf545a-4904-46ea-b54d-07c4a97c842d button.colab-df-convert');\n",
       "        buttonEl.style.display =\n",
       "          google.colab.kernel.accessAllowed ? 'block' : 'none';\n",
       "\n",
       "        async function convertToInteractive(key) {\n",
       "          const element = document.querySelector('#df-c1bf545a-4904-46ea-b54d-07c4a97c842d');\n",
       "          const dataTable =\n",
       "            await google.colab.kernel.invokeFunction('convertToInteractive',\n",
       "                                                     [key], {});\n",
       "          if (!dataTable) return;\n",
       "\n",
       "          const docLinkHtml = 'Like what you see? Visit the ' +\n",
       "            '<a target=\"_blank\" href=https://colab.research.google.com/notebooks/data_table.ipynb>data table notebook</a>'\n",
       "            + ' to learn more about interactive tables.';\n",
       "          element.innerHTML = '';\n",
       "          dataTable['output_type'] = 'display_data';\n",
       "          await google.colab.output.renderOutput(dataTable, element);\n",
       "          const docLink = document.createElement('div');\n",
       "          docLink.innerHTML = docLinkHtml;\n",
       "          element.appendChild(docLink);\n",
       "        }\n",
       "      </script>\n",
       "    </div>\n",
       "  </div>\n",
       "  "
      ],
      "text/plain": [
       "     molecule_chembl_id                                   canonical_smiles  \\\n",
       "0          CHEMBL164580           C[N+]1(CCOP(=O)([O-])OCCOC2CCCCC2)CCOCC1   \n",
       "1          CHEMBL166314  C[N+](C)(C)CCOP(=O)([O-])OCCCCCC12CC3CC(CC(C3)...   \n",
       "2          CHEMBL165097           C[N+](C)(C)CCOP(=O)([O-])OCCCCC=C1CCCCC1   \n",
       "3          CHEMBL166092  C[N+](C)(C)CCOP(=O)([O-])OCCCCCCCCCCC=C1C2CC3C...   \n",
       "4          CHEMBL349670        C[N+](C)(C)CCOP(=O)([O-])OCCOc1ccc2ccccc2c1   \n",
       "...                 ...                                                ...   \n",
       "6486      CHEMBL4873840            N=C(N)Nc1ccc2[nH]c(-c3csc4ccccc34)nc2c1   \n",
       "6487      CHEMBL4876357        N=C(N)Nc1ccc2[nH]c(-c3ccc(-c4cccs4)s3)nc2c1   \n",
       "6488      CHEMBL4862955       N=C(N)Nc1ccc2[nH]c(-c3ccc(-c4ccccc4)s3)nc2c1   \n",
       "6489      CHEMBL4849996   N=C(N)Nc1ccc2[nH]c(-c3cc(-c4ccc(Cl)cc4)on3)nc2c1   \n",
       "6490      CHEMBL4857629                 Cc1ncsc1-c1nc2cc(NC(=N)N)ccc2[nH]1   \n",
       "\n",
       "             class       MW     LogP  NumHDonors  NumHAcceptors     pIC50  \n",
       "0         inactive  351.380  1.31410         0.0            6.0  4.000000  \n",
       "1     intermediate  387.501  3.97100         0.0            4.0  5.395774  \n",
       "2         inactive  333.409  3.25500         0.0            4.0  4.000000  \n",
       "3     intermediate  469.647  6.08760         0.0            4.0  5.500313  \n",
       "4         inactive  353.355  2.42640         0.0            5.0  4.000000  \n",
       "...            ...      ...      ...         ...            ...       ...  \n",
       "6486        active  307.382  3.74997         4.0            3.0  7.232102  \n",
       "6487        active  339.449  4.32527         4.0            4.0  7.423659  \n",
       "6488        active  333.420  4.26377         4.0            3.0  7.356547  \n",
       "6489        active  352.785  3.84367         4.0            4.0  8.113509  \n",
       "6490        active  272.337  2.30019         4.0            4.0  7.044793  \n",
       "\n",
       "[6491 rows x 8 columns]"
      ]
     },
     "execution_count": 4,
     "metadata": {},
     "output_type": "execute_result"
    }
   ],
   "source": [
    "df3.drop(\"Unnamed: 0\",axis=1)"
   ]
  },
  {
   "cell_type": "code",
   "execution_count": null,
   "metadata": {
    "id": "73n4z8PVvYUL"
   },
   "outputs": [],
   "source": []
  },
  {
   "cell_type": "code",
   "execution_count": 5,
   "metadata": {
    "colab": {
     "base_uri": "https://localhost:8080/"
    },
    "executionInfo": {
     "elapsed": 634,
     "status": "ok",
     "timestamp": 1675166558488,
     "user": {
      "displayName": "rahul-a-t",
      "userId": "13570130994512892155"
     },
     "user_tz": -330
    },
    "id": "-gfg7VAH9tlq",
    "outputId": "99947f78-d298-4195-a27a-e4b055c38eef"
   },
   "outputs": [
    {
     "data": {
      "text/plain": [
       "0       4.000000\n",
       "1       5.395774\n",
       "2       4.000000\n",
       "3       5.500313\n",
       "4       4.000000\n",
       "          ...   \n",
       "6486    7.232102\n",
       "6487    7.423659\n",
       "6488    7.356547\n",
       "6489    8.113509\n",
       "6490    7.044793\n",
       "Name: pIC50, Length: 6491, dtype: float64"
      ]
     },
     "execution_count": 5,
     "metadata": {},
     "output_type": "execute_result"
    }
   ],
   "source": [
    "y = df3.pIC50 #orb df3.class \n",
    "y"
   ]
  },
  {
   "cell_type": "code",
   "execution_count": null,
   "metadata": {
    "id": "G8npfx289fSl"
   },
   "outputs": [],
   "source": [
    "_Y=df3.pIC50"
   ]
  },
  {
   "cell_type": "code",
   "execution_count": 6,
   "metadata": {
    "executionInfo": {
     "elapsed": 2,
     "status": "ok",
     "timestamp": 1675166576866,
     "user": {
      "displayName": "rahul-a-t",
      "userId": "13570130994512892155"
     },
     "user_tz": -330
    },
    "id": "BJDJkY43R-9F"
   },
   "outputs": [],
   "source": [
    "selection = ['canonical_smiles','molecule_chembl_id']\n",
    "df3_selection = df3[selection]\n",
    "df3_selection.to_csv('molecule.smi', sep='\\t', index=False, header=False)"
   ]
  },
  {
   "cell_type": "code",
   "execution_count": 7,
   "metadata": {
    "colab": {
     "base_uri": "https://localhost:8080/"
    },
    "executionInfo": {
     "elapsed": 530,
     "status": "ok",
     "timestamp": 1675166600056,
     "user": {
      "displayName": "rahul-a-t",
      "userId": "13570130994512892155"
     },
     "user_tz": -330
    },
    "id": "nRSCoPVDSkf5",
    "outputId": "6eed5ed7-75d1-49b3-f0c6-bd59bd8becc0"
   },
   "outputs": [
    {
     "name": "stdout",
     "output_type": "stream",
     "text": [
      "C[N+]1(CCOP(=O)([O-])OCCOC2CCCCC2)CCOCC1\tCHEMBL164580\n",
      "C[N+](C)(C)CCOP(=O)([O-])OCCCCCC12CC3CC(CC(C3)C1)C2\tCHEMBL166314\n",
      "C[N+](C)(C)CCOP(=O)([O-])OCCCCC=C1CCCCC1\tCHEMBL165097\n",
      "C[N+](C)(C)CCOP(=O)([O-])OCCCCCCCCCCC=C1C2CC3CC(C2)CC1C3\tCHEMBL166092\n",
      "C[N+](C)(C)CCOP(=O)([O-])OCCOc1ccc2ccccc2c1\tCHEMBL349670\n"
     ]
    }
   ],
   "source": [
    "! cat molecule.smi | head -5"
   ]
  },
  {
   "cell_type": "code",
   "execution_count": 8,
   "metadata": {
    "colab": {
     "base_uri": "https://localhost:8080/"
    },
    "executionInfo": {
     "elapsed": 508,
     "status": "ok",
     "timestamp": 1675166604958,
     "user": {
      "displayName": "rahul-a-t",
      "userId": "13570130994512892155"
     },
     "user_tz": -330
    },
    "id": "GlYaJ9pzUGjS",
    "outputId": "3c3c8f71-783f-43c3-e6ee-d73fabba3436"
   },
   "outputs": [
    {
     "name": "stdout",
     "output_type": "stream",
     "text": [
      "6491\n"
     ]
    }
   ],
   "source": [
    "! cat molecule.smi | wc -l"
   ]
  },
  {
   "cell_type": "markdown",
   "metadata": {
    "id": "YzN_S4Quro5S"
   },
   "source": [
    "## **Calculate fingerprint descriptors**\n"
   ]
  },
  {
   "cell_type": "markdown",
   "metadata": {
    "id": "JsgTV-ByxdMa"
   },
   "source": [
    "### **Calculate PaDEL descriptors**"
   ]
  },
  {
   "cell_type": "code",
   "execution_count": null,
   "metadata": {
    "id": "hSCopQvEiSMj"
   },
   "outputs": [],
   "source": [
    "# ! cat padel.sh"
   ]
  },
  {
   "cell_type": "code",
   "execution_count": null,
   "metadata": {
    "id": "6kN9jrGpS5nE"
   },
   "outputs": [],
   "source": [
    "# ! bash padel.sh"
   ]
  },
  {
   "cell_type": "code",
   "execution_count": null,
   "metadata": {
    "id": "1l2CnFdcauwZ"
   },
   "outputs": [],
   "source": [
    "# !cat /content/drive/MyDrive/Project_Msc/Project/fingerprints_xml.zip.zip"
   ]
  },
  {
   "cell_type": "code",
   "execution_count": null,
   "metadata": {
    "colab": {
     "base_uri": "https://localhost:8080/"
    },
    "executionInfo": {
     "elapsed": 1052,
     "status": "ok",
     "timestamp": 1666160119337,
     "user": {
      "displayName": "rahul-a-t",
      "userId": "13570130994512892155"
     },
     "user_tz": -330
    },
    "id": "WNhrG0Pw0ufk",
    "outputId": "4dbd74ed-ebd1-4979-e6fc-3f8672cf57e7"
   },
   "outputs": [
    {
     "name": "stdout",
     "output_type": "stream",
     "text": [
      "Archive:  /content/drive/MyDrive/Project_Msc/Project/fingerprints_xml.zip\n",
      "  inflating: AtomPairs2DFingerprintCount.xml  \n",
      "  inflating: AtomPairs2DFingerprinter.xml  \n",
      "  inflating: EStateFingerprinter.xml  \n",
      "  inflating: ExtendedFingerprinter.xml  \n",
      "  inflating: Fingerprinter.xml       \n",
      "  inflating: GraphOnlyFingerprinter.xml  \n",
      "  inflating: KlekotaRothFingerprintCount.xml  \n",
      "  inflating: KlekotaRothFingerprinter.xml  \n",
      "  inflating: MACCSFingerprinter.xml  \n",
      "  inflating: PubchemFingerprinter.xml  \n",
      "  inflating: SubstructureFingerprintCount.xml  \n",
      "  inflating: SubstructureFingerprinter.xml  \n"
     ]
    }
   ],
   "source": [
    "! unzip /content/drive/MyDrive/Project_Msc/Project/fingerprints_xml.zip"
   ]
  },
  {
   "cell_type": "code",
   "execution_count": null,
   "metadata": {
    "colab": {
     "base_uri": "https://localhost:8080/"
    },
    "executionInfo": {
     "elapsed": 8,
     "status": "ok",
     "timestamp": 1666160119337,
     "user": {
      "displayName": "rahul-a-t",
      "userId": "13570130994512892155"
     },
     "user_tz": -330
    },
    "id": "-3wciLzd0upR",
    "outputId": "81eea839-d643-4d0c-c64f-b21767a61ef7"
   },
   "outputs": [
    {
     "data": {
      "text/plain": [
       "['AtomPairs2DFingerprintCount.xml',\n",
       " 'AtomPairs2DFingerprinter.xml',\n",
       " 'EStateFingerprinter.xml',\n",
       " 'ExtendedFingerprinter.xml',\n",
       " 'Fingerprinter.xml',\n",
       " 'GraphOnlyFingerprinter.xml',\n",
       " 'KlekotaRothFingerprintCount.xml',\n",
       " 'KlekotaRothFingerprinter.xml',\n",
       " 'MACCSFingerprinter.xml',\n",
       " 'PubchemFingerprinter.xml',\n",
       " 'SubstructureFingerprintCount.xml',\n",
       " 'SubstructureFingerprinter.xml']"
      ]
     },
     "execution_count": 17,
     "metadata": {},
     "output_type": "execute_result"
    }
   ],
   "source": [
    "import glob\n",
    "xml_files = glob.glob(\"*.xml\")\n",
    "xml_files.sort()\n",
    "xml_files"
   ]
  },
  {
   "cell_type": "code",
   "execution_count": 11,
   "metadata": {
    "executionInfo": {
     "elapsed": 748,
     "status": "ok",
     "timestamp": 1675166700495,
     "user": {
      "displayName": "rahul-a-t",
      "userId": "13570130994512892155"
     },
     "user_tz": -330
    },
    "id": "rqFiBgbu1asF"
   },
   "outputs": [],
   "source": [
    "FP_list = ['AtomPairs2DCount',\n",
    " 'AtomPairs2D',\n",
    " 'EState',\n",
    " 'CDKextended',\n",
    " 'CDK',\n",
    " 'CDKgraphonly',\n",
    " 'KlekotaRothCount',\n",
    " 'KlekotaRoth',\n",
    " 'MACCS',\n",
    " 'PubChem',\n",
    " 'SubstructureCount',\n",
    " 'Substructure']\n"
   ]
  },
  {
   "cell_type": "code",
   "execution_count": null,
   "metadata": {
    "colab": {
     "base_uri": "https://localhost:8080/"
    },
    "executionInfo": {
     "elapsed": 6,
     "status": "ok",
     "timestamp": 1666160119338,
     "user": {
      "displayName": "rahul-a-t",
      "userId": "13570130994512892155"
     },
     "user_tz": -330
    },
    "id": "JoZaSlzy6rVb",
    "outputId": "8ee3d95b-9b12-4a05-a493-ef292db46d4e"
   },
   "outputs": [
    {
     "data": {
      "text/plain": [
       "{'KlekotaRoth': 'AtomPairs2DFingerprintCount.xml',\n",
       " 'MACCS': 'AtomPairs2DFingerprinter.xml',\n",
       " 'PubChem': 'EStateFingerprinter.xml',\n",
       " 'SubstructureCount': 'ExtendedFingerprinter.xml',\n",
       " 'Substructure': 'Fingerprinter.xml'}"
      ]
     },
     "execution_count": 19,
     "metadata": {},
     "output_type": "execute_result"
    }
   ],
   "source": [
    "fp = dict(zip(FP_list, xml_files))\n",
    "fp"
   ]
  },
  {
   "cell_type": "code",
   "execution_count": null,
   "metadata": {
    "colab": {
     "base_uri": "https://localhost:8080/",
     "height": 424
    },
    "executionInfo": {
     "elapsed": 5,
     "status": "ok",
     "timestamp": 1666160119338,
     "user": {
      "displayName": "rahul-a-t",
      "userId": "13570130994512892155"
     },
     "user_tz": -330
    },
    "id": "X2WeK48k-cDv",
    "outputId": "9724aa28-d6d2-4ec9-c89a-a30391871a77"
   },
   "outputs": [
    {
     "data": {
      "text/html": [
       "\n",
       "  <div id=\"df-66756cf6-54c5-46c8-ad91-d3cdaf0eff0d\">\n",
       "    <div class=\"colab-df-container\">\n",
       "      <div>\n",
       "<style scoped>\n",
       "    .dataframe tbody tr th:only-of-type {\n",
       "        vertical-align: middle;\n",
       "    }\n",
       "\n",
       "    .dataframe tbody tr th {\n",
       "        vertical-align: top;\n",
       "    }\n",
       "\n",
       "    .dataframe thead th {\n",
       "        text-align: right;\n",
       "    }\n",
       "</style>\n",
       "<table border=\"1\" class=\"dataframe\">\n",
       "  <thead>\n",
       "    <tr style=\"text-align: right;\">\n",
       "      <th></th>\n",
       "      <th>C[N+]1(CCOP(=O)([O-])OCCOC2CCCCC2)CCOCC1\\tCHEMBL164580</th>\n",
       "    </tr>\n",
       "  </thead>\n",
       "  <tbody>\n",
       "    <tr>\n",
       "      <th>0</th>\n",
       "      <td>C[N+](C)(C)CCOP(=O)([O-])OCCCCCC12CC3CC(CC(C3)...</td>\n",
       "    </tr>\n",
       "    <tr>\n",
       "      <th>1</th>\n",
       "      <td>C[N+](C)(C)CCOP(=O)([O-])OCCCCC=C1CCCCC1\\tCHEM...</td>\n",
       "    </tr>\n",
       "    <tr>\n",
       "      <th>2</th>\n",
       "      <td>C[N+](C)(C)CCOP(=O)([O-])OCCCCCCCCCCC=C1C2CC3C...</td>\n",
       "    </tr>\n",
       "    <tr>\n",
       "      <th>3</th>\n",
       "      <td>C[N+](C)(C)CCOP(=O)([O-])OCCOc1ccc2ccccc2c1\\tC...</td>\n",
       "    </tr>\n",
       "    <tr>\n",
       "      <th>4</th>\n",
       "      <td>C[N+]1(CCOP(=O)([O-])Oc2ccc(C34CC5CC(CC(C5)C3)...</td>\n",
       "    </tr>\n",
       "    <tr>\n",
       "      <th>...</th>\n",
       "      <td>...</td>\n",
       "    </tr>\n",
       "    <tr>\n",
       "      <th>6485</th>\n",
       "      <td>N=C(N)Nc1ccc2[nH]c(-c3csc4ccccc34)nc2c1\\tCHEMB...</td>\n",
       "    </tr>\n",
       "    <tr>\n",
       "      <th>6486</th>\n",
       "      <td>N=C(N)Nc1ccc2[nH]c(-c3ccc(-c4cccs4)s3)nc2c1\\tC...</td>\n",
       "    </tr>\n",
       "    <tr>\n",
       "      <th>6487</th>\n",
       "      <td>N=C(N)Nc1ccc2[nH]c(-c3ccc(-c4ccccc4)s3)nc2c1\\t...</td>\n",
       "    </tr>\n",
       "    <tr>\n",
       "      <th>6488</th>\n",
       "      <td>N=C(N)Nc1ccc2[nH]c(-c3cc(-c4ccc(Cl)cc4)on3)nc2...</td>\n",
       "    </tr>\n",
       "    <tr>\n",
       "      <th>6489</th>\n",
       "      <td>Cc1ncsc1-c1nc2cc(NC(=N)N)ccc2[nH]1\\tCHEMBL4857629</td>\n",
       "    </tr>\n",
       "  </tbody>\n",
       "</table>\n",
       "<p>6490 rows × 1 columns</p>\n",
       "</div>\n",
       "      <button class=\"colab-df-convert\" onclick=\"convertToInteractive('df-66756cf6-54c5-46c8-ad91-d3cdaf0eff0d')\"\n",
       "              title=\"Convert this dataframe to an interactive table.\"\n",
       "              style=\"display:none;\">\n",
       "        \n",
       "  <svg xmlns=\"http://www.w3.org/2000/svg\" height=\"24px\"viewBox=\"0 0 24 24\"\n",
       "       width=\"24px\">\n",
       "    <path d=\"M0 0h24v24H0V0z\" fill=\"none\"/>\n",
       "    <path d=\"M18.56 5.44l.94 2.06.94-2.06 2.06-.94-2.06-.94-.94-2.06-.94 2.06-2.06.94zm-11 1L8.5 8.5l.94-2.06 2.06-.94-2.06-.94L8.5 2.5l-.94 2.06-2.06.94zm10 10l.94 2.06.94-2.06 2.06-.94-2.06-.94-.94-2.06-.94 2.06-2.06.94z\"/><path d=\"M17.41 7.96l-1.37-1.37c-.4-.4-.92-.59-1.43-.59-.52 0-1.04.2-1.43.59L10.3 9.45l-7.72 7.72c-.78.78-.78 2.05 0 2.83L4 21.41c.39.39.9.59 1.41.59.51 0 1.02-.2 1.41-.59l7.78-7.78 2.81-2.81c.8-.78.8-2.07 0-2.86zM5.41 20L4 18.59l7.72-7.72 1.47 1.35L5.41 20z\"/>\n",
       "  </svg>\n",
       "      </button>\n",
       "      \n",
       "  <style>\n",
       "    .colab-df-container {\n",
       "      display:flex;\n",
       "      flex-wrap:wrap;\n",
       "      gap: 12px;\n",
       "    }\n",
       "\n",
       "    .colab-df-convert {\n",
       "      background-color: #E8F0FE;\n",
       "      border: none;\n",
       "      border-radius: 50%;\n",
       "      cursor: pointer;\n",
       "      display: none;\n",
       "      fill: #1967D2;\n",
       "      height: 32px;\n",
       "      padding: 0 0 0 0;\n",
       "      width: 32px;\n",
       "    }\n",
       "\n",
       "    .colab-df-convert:hover {\n",
       "      background-color: #E2EBFA;\n",
       "      box-shadow: 0px 1px 2px rgba(60, 64, 67, 0.3), 0px 1px 3px 1px rgba(60, 64, 67, 0.15);\n",
       "      fill: #174EA6;\n",
       "    }\n",
       "\n",
       "    [theme=dark] .colab-df-convert {\n",
       "      background-color: #3B4455;\n",
       "      fill: #D2E3FC;\n",
       "    }\n",
       "\n",
       "    [theme=dark] .colab-df-convert:hover {\n",
       "      background-color: #434B5C;\n",
       "      box-shadow: 0px 1px 3px 1px rgba(0, 0, 0, 0.15);\n",
       "      filter: drop-shadow(0px 1px 2px rgba(0, 0, 0, 0.3));\n",
       "      fill: #FFFFFF;\n",
       "    }\n",
       "  </style>\n",
       "\n",
       "      <script>\n",
       "        const buttonEl =\n",
       "          document.querySelector('#df-66756cf6-54c5-46c8-ad91-d3cdaf0eff0d button.colab-df-convert');\n",
       "        buttonEl.style.display =\n",
       "          google.colab.kernel.accessAllowed ? 'block' : 'none';\n",
       "\n",
       "        async function convertToInteractive(key) {\n",
       "          const element = document.querySelector('#df-66756cf6-54c5-46c8-ad91-d3cdaf0eff0d');\n",
       "          const dataTable =\n",
       "            await google.colab.kernel.invokeFunction('convertToInteractive',\n",
       "                                                     [key], {});\n",
       "          if (!dataTable) return;\n",
       "\n",
       "          const docLinkHtml = 'Like what you see? Visit the ' +\n",
       "            '<a target=\"_blank\" href=https://colab.research.google.com/notebooks/data_table.ipynb>data table notebook</a>'\n",
       "            + ' to learn more about interactive tables.';\n",
       "          element.innerHTML = '';\n",
       "          dataTable['output_type'] = 'display_data';\n",
       "          await google.colab.output.renderOutput(dataTable, element);\n",
       "          const docLink = document.createElement('div');\n",
       "          docLink.innerHTML = docLinkHtml;\n",
       "          element.appendChild(docLink);\n",
       "        }\n",
       "      </script>\n",
       "    </div>\n",
       "  </div>\n",
       "  "
      ],
      "text/plain": [
       "     C[N+]1(CCOP(=O)([O-])OCCOC2CCCCC2)CCOCC1\\tCHEMBL164580\n",
       "0     C[N+](C)(C)CCOP(=O)([O-])OCCCCCC12CC3CC(CC(C3)...    \n",
       "1     C[N+](C)(C)CCOP(=O)([O-])OCCCCC=C1CCCCC1\\tCHEM...    \n",
       "2     C[N+](C)(C)CCOP(=O)([O-])OCCCCCCCCCCC=C1C2CC3C...    \n",
       "3     C[N+](C)(C)CCOP(=O)([O-])OCCOc1ccc2ccccc2c1\\tC...    \n",
       "4     C[N+]1(CCOP(=O)([O-])Oc2ccc(C34CC5CC(CC(C5)C3)...    \n",
       "...                                                 ...    \n",
       "6485  N=C(N)Nc1ccc2[nH]c(-c3csc4ccccc34)nc2c1\\tCHEMB...    \n",
       "6486  N=C(N)Nc1ccc2[nH]c(-c3ccc(-c4cccs4)s3)nc2c1\\tC...    \n",
       "6487  N=C(N)Nc1ccc2[nH]c(-c3ccc(-c4ccccc4)s3)nc2c1\\t...    \n",
       "6488  N=C(N)Nc1ccc2[nH]c(-c3cc(-c4ccc(Cl)cc4)on3)nc2...    \n",
       "6489  Cc1ncsc1-c1nc2cc(NC(=N)N)ccc2[nH]1\\tCHEMBL4857629    \n",
       "\n",
       "[6490 rows x 1 columns]"
      ]
     },
     "execution_count": 20,
     "metadata": {},
     "output_type": "execute_result"
    }
   ],
   "source": [
    "mol=pd.read_csv('molecule.smi')\n",
    "mol"
   ]
  },
  {
   "cell_type": "code",
   "execution_count": null,
   "metadata": {
    "colab": {
     "base_uri": "https://localhost:8080/"
    },
    "executionInfo": {
     "elapsed": 6123,
     "status": "ok",
     "timestamp": 1666160125457,
     "user": {
      "displayName": "rahul-a-t",
      "userId": "13570130994512892155"
     },
     "user_tz": -330
    },
    "id": "WmQGai8o7BXV",
    "outputId": "edcb5b87-3337-4076-ef19-6a77f75a1f6d"
   },
   "outputs": [
    {
     "name": "stdout",
     "output_type": "stream",
     "text": [
      "Looking in indexes: https://pypi.org/simple, https://us-python.pkg.dev/colab-wheels/public/simple/\n",
      "Collecting padelpy\n",
      "  Downloading padelpy-0.1.12-py2.py3-none-any.whl (20.9 MB)\n",
      "\u001b[K     |████████████████████████████████| 20.9 MB 1.4 MB/s \n",
      "\u001b[?25hInstalling collected packages: padelpy\n",
      "Successfully installed padelpy-0.1.12\n"
     ]
    }
   ],
   "source": [
    "!pip install padelpy"
   ]
  },
  {
   "cell_type": "code",
   "execution_count": null,
   "metadata": {
    "id": "ghpNxT9367UV"
   },
   "outputs": [],
   "source": [
    "from padelpy import padeldescriptor\n",
    "for i in FP_list:\n",
    "\n",
    "  fingerprint = i #user input\n",
    "\n",
    "  fingerprint_output_file = ''.join([fingerprint,'.csv']) #PubChem.csv\n",
    "  fingerprint_descriptortypes = fp[fingerprint]\n",
    "  padeldescriptor(mol_dir='molecule.smi', \n",
    "                  d_file=fingerprint_output_file, #'Substructure.csv' example\n",
    "                  #descriptortypes='SubstructureFingerprint.xml', \n",
    "                  descriptortypes= fingerprint_descriptortypes,\n",
    "                  detectaromaticity=True,\n",
    "                  standardizenitro=True,\n",
    "                  standardizetautomers=True,\n",
    "                  threads=10,\n",
    "                  removesalt=True,\n",
    "                  log=True,\n",
    "                  fingerprints=True)\n",
    "  descriptors = pd.read_csv(fingerprint_output_file)\n",
    "    # descriptors\n",
    "    # df_2class\n",
    "  X = descriptors.drop('Name', axis=1)\n",
    "     #maybe we will choose bioactivity with 3 class\n",
    "  model_dataset_PubChem = pd.concat([X,y,_Y],axis=1)\n",
    "  model_dataset_PubChem.to_csv(f\"/content/drive/MyDrive/Project_Msc/Project/pIC50_data/Fingerprints_descriptors/model_dataset_\"+fingerprint_output_file ,index=False)"
   ]
  },
  {
   "cell_type": "code",
   "execution_count": null,
   "metadata": {
    "id": "XHl1njCA5R5w"
   },
   "outputs": [],
   "source": [
    "fingerprint = \"Substructure\" #user input\n",
    "\n",
    "fingerprint_output_file = ''.join([fingerprint,'.csv']) #PubChem.csv\n",
    "fingerprint_descriptortypes = fp[fingerprint]\n",
    "padeldescriptor(mol_dir='molecule.smi', \n",
    "                   d_file=fingerprint_output_file, #'Substructure.csv' example\n",
    "                   #descriptortypes='SubstructureFingerprint.xml', \n",
    "                   descriptortypes= fingerprint_descriptortypes,\n",
    "                   detectaromaticity=True,\n",
    "                   standardizenitro=True,\n",
    "                   standardizetautomers=True,\n",
    "                   threads=10,\n",
    "                   removesalt=True,\n",
    "                   log=True,\n",
    "                   fingerprints=True)\n",
    "descriptors = pd.read_csv(fingerprint_output_file)\n",
    "   # descriptors\n",
    "    # df_2class\n",
    "X = descriptors.drop('Name', axis=1)\n",
    "     #maybe we will choose bioactivity with 3 class\n",
    "model_dataset_PubChem = pd.concat([X,y,_Y],axis=1)\n",
    "model_dataset_PubChem.to_csv(f\"/content/drive/MyDrive/Project_Msc/Project/pIC50_data/Fingerprints_descriptors/model_dataset_\"+fingerprint_output_file ,index=False)"
   ]
  },
  {
   "cell_type": "code",
   "execution_count": null,
   "metadata": {
    "id": "ZkF_1_dc_Hvn"
   },
   "outputs": [],
   "source": [
    "X"
   ]
  },
  {
   "cell_type": "code",
   "execution_count": null,
   "metadata": {
    "id": "2p7rAVy_k_hH"
   },
   "outputs": [],
   "source": [
    "! ls -l"
   ]
  },
  {
   "cell_type": "code",
   "execution_count": 9,
   "metadata": {
    "executionInfo": {
     "elapsed": 523,
     "status": "ok",
     "timestamp": 1675166636942,
     "user": {
      "displayName": "rahul-a-t",
      "userId": "13570130994512892155"
     },
     "user_tz": -330
    },
    "id": "65Gqm8oRg_Mh"
   },
   "outputs": [],
   "source": [
    "# df3_Y = df3['pIC50']\n",
    "df3_Y=df3['class']"
   ]
  },
  {
   "cell_type": "markdown",
   "metadata": {
    "id": "gUMlPfFrxicj"
   },
   "source": [
    "## **Preparing the X and Y Data Matrices**"
   ]
  },
  {
   "cell_type": "markdown",
   "metadata": {
    "id": "30aa4WP4ZA8M"
   },
   "source": [
    "### **X data matrix**"
   ]
  },
  {
   "cell_type": "code",
   "execution_count": 15,
   "metadata": {
    "executionInfo": {
     "elapsed": 47843,
     "status": "ok",
     "timestamp": 1675167153213,
     "user": {
      "displayName": "rahul-a-t",
      "userId": "13570130994512892155"
     },
     "user_tz": -330
    },
    "id": "3g319qxVl7tY"
   },
   "outputs": [],
   "source": [
    "for i in FP_list:\n",
    "\n",
    "  fingerprint = i #user input\n",
    "\n",
    "  fingerprint_output_file = ''.join([fingerprint,'.csv'])\n",
    "\n",
    "  df3_X = pd.read_csv(f\"/content/drive/MyDrive/Project_Msc/Project/pIC50_data/Fingerprints_descriptors/model_dataset_\"+ fingerprint_output_file)\n",
    "  # df3_X = df3_X.drop(columns=['Name'])\n",
    "  dataset3 = pd.concat([df3_X,df3_Y], axis=1)\n",
    "  dataset3.to_csv(f\"/content/drive/MyDrive/Project_Msc/Project/pIC50_data/Leishmania_06_bioactivity_data_3class_\"+fingerprint+\"_fp.csv\", index=False)\n",
    "  "
   ]
  },
  {
   "cell_type": "code",
   "execution_count": 16,
   "metadata": {
    "colab": {
     "base_uri": "https://localhost:8080/",
     "height": 487
    },
    "executionInfo": {
     "elapsed": 7,
     "status": "ok",
     "timestamp": 1675167172345,
     "user": {
      "displayName": "rahul-a-t",
      "userId": "13570130994512892155"
     },
     "user_tz": -330
    },
    "id": "hBp1PTObFQDd",
    "outputId": "56c2a6d7-6754-4bd6-b4ff-12b77ea3d733"
   },
   "outputs": [
    {
     "data": {
      "text/html": [
       "\n",
       "  <div id=\"df-7caa3bef-57b2-4741-81fe-7a79eee46587\">\n",
       "    <div class=\"colab-df-container\">\n",
       "      <div>\n",
       "<style scoped>\n",
       "    .dataframe tbody tr th:only-of-type {\n",
       "        vertical-align: middle;\n",
       "    }\n",
       "\n",
       "    .dataframe tbody tr th {\n",
       "        vertical-align: top;\n",
       "    }\n",
       "\n",
       "    .dataframe thead th {\n",
       "        text-align: right;\n",
       "    }\n",
       "</style>\n",
       "<table border=\"1\" class=\"dataframe\">\n",
       "  <thead>\n",
       "    <tr style=\"text-align: right;\">\n",
       "      <th></th>\n",
       "      <th>FP1</th>\n",
       "      <th>FP2</th>\n",
       "      <th>FP3</th>\n",
       "      <th>FP4</th>\n",
       "      <th>FP5</th>\n",
       "      <th>FP6</th>\n",
       "      <th>FP7</th>\n",
       "      <th>FP8</th>\n",
       "      <th>FP9</th>\n",
       "      <th>FP10</th>\n",
       "      <th>...</th>\n",
       "      <th>FP1017</th>\n",
       "      <th>FP1018</th>\n",
       "      <th>FP1019</th>\n",
       "      <th>FP1020</th>\n",
       "      <th>FP1021</th>\n",
       "      <th>FP1022</th>\n",
       "      <th>FP1023</th>\n",
       "      <th>FP1024</th>\n",
       "      <th>pIC50</th>\n",
       "      <th>pIC50.1</th>\n",
       "    </tr>\n",
       "  </thead>\n",
       "  <tbody>\n",
       "    <tr>\n",
       "      <th>0</th>\n",
       "      <td>0</td>\n",
       "      <td>0</td>\n",
       "      <td>0</td>\n",
       "      <td>0</td>\n",
       "      <td>0</td>\n",
       "      <td>1</td>\n",
       "      <td>0</td>\n",
       "      <td>0</td>\n",
       "      <td>0</td>\n",
       "      <td>0</td>\n",
       "      <td>...</td>\n",
       "      <td>0</td>\n",
       "      <td>0</td>\n",
       "      <td>0</td>\n",
       "      <td>0</td>\n",
       "      <td>0</td>\n",
       "      <td>0</td>\n",
       "      <td>0</td>\n",
       "      <td>0</td>\n",
       "      <td>4.000000</td>\n",
       "      <td>4.000000</td>\n",
       "    </tr>\n",
       "    <tr>\n",
       "      <th>1</th>\n",
       "      <td>0</td>\n",
       "      <td>0</td>\n",
       "      <td>0</td>\n",
       "      <td>0</td>\n",
       "      <td>0</td>\n",
       "      <td>0</td>\n",
       "      <td>0</td>\n",
       "      <td>0</td>\n",
       "      <td>0</td>\n",
       "      <td>0</td>\n",
       "      <td>...</td>\n",
       "      <td>0</td>\n",
       "      <td>0</td>\n",
       "      <td>1</td>\n",
       "      <td>0</td>\n",
       "      <td>0</td>\n",
       "      <td>0</td>\n",
       "      <td>0</td>\n",
       "      <td>0</td>\n",
       "      <td>5.395774</td>\n",
       "      <td>5.395774</td>\n",
       "    </tr>\n",
       "    <tr>\n",
       "      <th>2</th>\n",
       "      <td>0</td>\n",
       "      <td>0</td>\n",
       "      <td>0</td>\n",
       "      <td>0</td>\n",
       "      <td>0</td>\n",
       "      <td>1</td>\n",
       "      <td>0</td>\n",
       "      <td>0</td>\n",
       "      <td>0</td>\n",
       "      <td>0</td>\n",
       "      <td>...</td>\n",
       "      <td>0</td>\n",
       "      <td>0</td>\n",
       "      <td>0</td>\n",
       "      <td>0</td>\n",
       "      <td>0</td>\n",
       "      <td>0</td>\n",
       "      <td>0</td>\n",
       "      <td>0</td>\n",
       "      <td>4.000000</td>\n",
       "      <td>4.000000</td>\n",
       "    </tr>\n",
       "    <tr>\n",
       "      <th>3</th>\n",
       "      <td>0</td>\n",
       "      <td>0</td>\n",
       "      <td>0</td>\n",
       "      <td>0</td>\n",
       "      <td>0</td>\n",
       "      <td>0</td>\n",
       "      <td>0</td>\n",
       "      <td>0</td>\n",
       "      <td>0</td>\n",
       "      <td>0</td>\n",
       "      <td>...</td>\n",
       "      <td>0</td>\n",
       "      <td>0</td>\n",
       "      <td>0</td>\n",
       "      <td>0</td>\n",
       "      <td>0</td>\n",
       "      <td>0</td>\n",
       "      <td>0</td>\n",
       "      <td>0</td>\n",
       "      <td>5.500313</td>\n",
       "      <td>5.500313</td>\n",
       "    </tr>\n",
       "    <tr>\n",
       "      <th>4</th>\n",
       "      <td>0</td>\n",
       "      <td>0</td>\n",
       "      <td>0</td>\n",
       "      <td>0</td>\n",
       "      <td>0</td>\n",
       "      <td>0</td>\n",
       "      <td>0</td>\n",
       "      <td>0</td>\n",
       "      <td>0</td>\n",
       "      <td>0</td>\n",
       "      <td>...</td>\n",
       "      <td>0</td>\n",
       "      <td>0</td>\n",
       "      <td>0</td>\n",
       "      <td>0</td>\n",
       "      <td>0</td>\n",
       "      <td>0</td>\n",
       "      <td>0</td>\n",
       "      <td>0</td>\n",
       "      <td>4.000000</td>\n",
       "      <td>4.000000</td>\n",
       "    </tr>\n",
       "    <tr>\n",
       "      <th>...</th>\n",
       "      <td>...</td>\n",
       "      <td>...</td>\n",
       "      <td>...</td>\n",
       "      <td>...</td>\n",
       "      <td>...</td>\n",
       "      <td>...</td>\n",
       "      <td>...</td>\n",
       "      <td>...</td>\n",
       "      <td>...</td>\n",
       "      <td>...</td>\n",
       "      <td>...</td>\n",
       "      <td>...</td>\n",
       "      <td>...</td>\n",
       "      <td>...</td>\n",
       "      <td>...</td>\n",
       "      <td>...</td>\n",
       "      <td>...</td>\n",
       "      <td>...</td>\n",
       "      <td>...</td>\n",
       "      <td>...</td>\n",
       "      <td>...</td>\n",
       "    </tr>\n",
       "    <tr>\n",
       "      <th>6486</th>\n",
       "      <td>0</td>\n",
       "      <td>1</td>\n",
       "      <td>0</td>\n",
       "      <td>0</td>\n",
       "      <td>0</td>\n",
       "      <td>0</td>\n",
       "      <td>1</td>\n",
       "      <td>0</td>\n",
       "      <td>0</td>\n",
       "      <td>0</td>\n",
       "      <td>...</td>\n",
       "      <td>0</td>\n",
       "      <td>0</td>\n",
       "      <td>1</td>\n",
       "      <td>0</td>\n",
       "      <td>0</td>\n",
       "      <td>0</td>\n",
       "      <td>0</td>\n",
       "      <td>0</td>\n",
       "      <td>7.232102</td>\n",
       "      <td>7.232102</td>\n",
       "    </tr>\n",
       "    <tr>\n",
       "      <th>6487</th>\n",
       "      <td>0</td>\n",
       "      <td>1</td>\n",
       "      <td>1</td>\n",
       "      <td>0</td>\n",
       "      <td>0</td>\n",
       "      <td>0</td>\n",
       "      <td>1</td>\n",
       "      <td>0</td>\n",
       "      <td>0</td>\n",
       "      <td>0</td>\n",
       "      <td>...</td>\n",
       "      <td>0</td>\n",
       "      <td>0</td>\n",
       "      <td>0</td>\n",
       "      <td>1</td>\n",
       "      <td>0</td>\n",
       "      <td>0</td>\n",
       "      <td>0</td>\n",
       "      <td>0</td>\n",
       "      <td>7.423659</td>\n",
       "      <td>7.423659</td>\n",
       "    </tr>\n",
       "    <tr>\n",
       "      <th>6488</th>\n",
       "      <td>0</td>\n",
       "      <td>1</td>\n",
       "      <td>0</td>\n",
       "      <td>0</td>\n",
       "      <td>0</td>\n",
       "      <td>0</td>\n",
       "      <td>1</td>\n",
       "      <td>0</td>\n",
       "      <td>0</td>\n",
       "      <td>0</td>\n",
       "      <td>...</td>\n",
       "      <td>0</td>\n",
       "      <td>0</td>\n",
       "      <td>0</td>\n",
       "      <td>0</td>\n",
       "      <td>1</td>\n",
       "      <td>0</td>\n",
       "      <td>0</td>\n",
       "      <td>0</td>\n",
       "      <td>7.356547</td>\n",
       "      <td>7.356547</td>\n",
       "    </tr>\n",
       "    <tr>\n",
       "      <th>6489</th>\n",
       "      <td>1</td>\n",
       "      <td>1</td>\n",
       "      <td>0</td>\n",
       "      <td>0</td>\n",
       "      <td>0</td>\n",
       "      <td>0</td>\n",
       "      <td>1</td>\n",
       "      <td>0</td>\n",
       "      <td>0</td>\n",
       "      <td>0</td>\n",
       "      <td>...</td>\n",
       "      <td>0</td>\n",
       "      <td>0</td>\n",
       "      <td>0</td>\n",
       "      <td>0</td>\n",
       "      <td>0</td>\n",
       "      <td>0</td>\n",
       "      <td>0</td>\n",
       "      <td>0</td>\n",
       "      <td>8.113509</td>\n",
       "      <td>8.113509</td>\n",
       "    </tr>\n",
       "    <tr>\n",
       "      <th>6490</th>\n",
       "      <td>0</td>\n",
       "      <td>1</td>\n",
       "      <td>0</td>\n",
       "      <td>0</td>\n",
       "      <td>0</td>\n",
       "      <td>0</td>\n",
       "      <td>1</td>\n",
       "      <td>0</td>\n",
       "      <td>0</td>\n",
       "      <td>0</td>\n",
       "      <td>...</td>\n",
       "      <td>0</td>\n",
       "      <td>0</td>\n",
       "      <td>0</td>\n",
       "      <td>0</td>\n",
       "      <td>0</td>\n",
       "      <td>0</td>\n",
       "      <td>0</td>\n",
       "      <td>0</td>\n",
       "      <td>7.044793</td>\n",
       "      <td>7.044793</td>\n",
       "    </tr>\n",
       "  </tbody>\n",
       "</table>\n",
       "<p>6491 rows × 1026 columns</p>\n",
       "</div>\n",
       "      <button class=\"colab-df-convert\" onclick=\"convertToInteractive('df-7caa3bef-57b2-4741-81fe-7a79eee46587')\"\n",
       "              title=\"Convert this dataframe to an interactive table.\"\n",
       "              style=\"display:none;\">\n",
       "        \n",
       "  <svg xmlns=\"http://www.w3.org/2000/svg\" height=\"24px\"viewBox=\"0 0 24 24\"\n",
       "       width=\"24px\">\n",
       "    <path d=\"M0 0h24v24H0V0z\" fill=\"none\"/>\n",
       "    <path d=\"M18.56 5.44l.94 2.06.94-2.06 2.06-.94-2.06-.94-.94-2.06-.94 2.06-2.06.94zm-11 1L8.5 8.5l.94-2.06 2.06-.94-2.06-.94L8.5 2.5l-.94 2.06-2.06.94zm10 10l.94 2.06.94-2.06 2.06-.94-2.06-.94-.94-2.06-.94 2.06-2.06.94z\"/><path d=\"M17.41 7.96l-1.37-1.37c-.4-.4-.92-.59-1.43-.59-.52 0-1.04.2-1.43.59L10.3 9.45l-7.72 7.72c-.78.78-.78 2.05 0 2.83L4 21.41c.39.39.9.59 1.41.59.51 0 1.02-.2 1.41-.59l7.78-7.78 2.81-2.81c.8-.78.8-2.07 0-2.86zM5.41 20L4 18.59l7.72-7.72 1.47 1.35L5.41 20z\"/>\n",
       "  </svg>\n",
       "      </button>\n",
       "      \n",
       "  <style>\n",
       "    .colab-df-container {\n",
       "      display:flex;\n",
       "      flex-wrap:wrap;\n",
       "      gap: 12px;\n",
       "    }\n",
       "\n",
       "    .colab-df-convert {\n",
       "      background-color: #E8F0FE;\n",
       "      border: none;\n",
       "      border-radius: 50%;\n",
       "      cursor: pointer;\n",
       "      display: none;\n",
       "      fill: #1967D2;\n",
       "      height: 32px;\n",
       "      padding: 0 0 0 0;\n",
       "      width: 32px;\n",
       "    }\n",
       "\n",
       "    .colab-df-convert:hover {\n",
       "      background-color: #E2EBFA;\n",
       "      box-shadow: 0px 1px 2px rgba(60, 64, 67, 0.3), 0px 1px 3px 1px rgba(60, 64, 67, 0.15);\n",
       "      fill: #174EA6;\n",
       "    }\n",
       "\n",
       "    [theme=dark] .colab-df-convert {\n",
       "      background-color: #3B4455;\n",
       "      fill: #D2E3FC;\n",
       "    }\n",
       "\n",
       "    [theme=dark] .colab-df-convert:hover {\n",
       "      background-color: #434B5C;\n",
       "      box-shadow: 0px 1px 3px 1px rgba(0, 0, 0, 0.15);\n",
       "      filter: drop-shadow(0px 1px 2px rgba(0, 0, 0, 0.3));\n",
       "      fill: #FFFFFF;\n",
       "    }\n",
       "  </style>\n",
       "\n",
       "      <script>\n",
       "        const buttonEl =\n",
       "          document.querySelector('#df-7caa3bef-57b2-4741-81fe-7a79eee46587 button.colab-df-convert');\n",
       "        buttonEl.style.display =\n",
       "          google.colab.kernel.accessAllowed ? 'block' : 'none';\n",
       "\n",
       "        async function convertToInteractive(key) {\n",
       "          const element = document.querySelector('#df-7caa3bef-57b2-4741-81fe-7a79eee46587');\n",
       "          const dataTable =\n",
       "            await google.colab.kernel.invokeFunction('convertToInteractive',\n",
       "                                                     [key], {});\n",
       "          if (!dataTable) return;\n",
       "\n",
       "          const docLinkHtml = 'Like what you see? Visit the ' +\n",
       "            '<a target=\"_blank\" href=https://colab.research.google.com/notebooks/data_table.ipynb>data table notebook</a>'\n",
       "            + ' to learn more about interactive tables.';\n",
       "          element.innerHTML = '';\n",
       "          dataTable['output_type'] = 'display_data';\n",
       "          await google.colab.output.renderOutput(dataTable, element);\n",
       "          const docLink = document.createElement('div');\n",
       "          docLink.innerHTML = docLinkHtml;\n",
       "          element.appendChild(docLink);\n",
       "        }\n",
       "      </script>\n",
       "    </div>\n",
       "  </div>\n",
       "  "
      ],
      "text/plain": [
       "      FP1  FP2  FP3  FP4  FP5  FP6  FP7  FP8  FP9  FP10  ...  FP1017  FP1018  \\\n",
       "0       0    0    0    0    0    1    0    0    0     0  ...       0       0   \n",
       "1       0    0    0    0    0    0    0    0    0     0  ...       0       0   \n",
       "2       0    0    0    0    0    1    0    0    0     0  ...       0       0   \n",
       "3       0    0    0    0    0    0    0    0    0     0  ...       0       0   \n",
       "4       0    0    0    0    0    0    0    0    0     0  ...       0       0   \n",
       "...   ...  ...  ...  ...  ...  ...  ...  ...  ...   ...  ...     ...     ...   \n",
       "6486    0    1    0    0    0    0    1    0    0     0  ...       0       0   \n",
       "6487    0    1    1    0    0    0    1    0    0     0  ...       0       0   \n",
       "6488    0    1    0    0    0    0    1    0    0     0  ...       0       0   \n",
       "6489    1    1    0    0    0    0    1    0    0     0  ...       0       0   \n",
       "6490    0    1    0    0    0    0    1    0    0     0  ...       0       0   \n",
       "\n",
       "      FP1019  FP1020  FP1021  FP1022  FP1023  FP1024     pIC50   pIC50.1  \n",
       "0          0       0       0       0       0       0  4.000000  4.000000  \n",
       "1          1       0       0       0       0       0  5.395774  5.395774  \n",
       "2          0       0       0       0       0       0  4.000000  4.000000  \n",
       "3          0       0       0       0       0       0  5.500313  5.500313  \n",
       "4          0       0       0       0       0       0  4.000000  4.000000  \n",
       "...      ...     ...     ...     ...     ...     ...       ...       ...  \n",
       "6486       1       0       0       0       0       0  7.232102  7.232102  \n",
       "6487       0       1       0       0       0       0  7.423659  7.423659  \n",
       "6488       0       0       1       0       0       0  7.356547  7.356547  \n",
       "6489       0       0       0       0       0       0  8.113509  8.113509  \n",
       "6490       0       0       0       0       0       0  7.044793  7.044793  \n",
       "\n",
       "[6491 rows x 1026 columns]"
      ]
     },
     "execution_count": 16,
     "metadata": {},
     "output_type": "execute_result"
    }
   ],
   "source": [
    "df3_X"
   ]
  },
  {
   "cell_type": "code",
   "execution_count": 18,
   "metadata": {
    "colab": {
     "base_uri": "https://localhost:8080/",
     "height": 487
    },
    "executionInfo": {
     "elapsed": 7,
     "status": "ok",
     "timestamp": 1675167225612,
     "user": {
      "displayName": "rahul-a-t",
      "userId": "13570130994512892155"
     },
     "user_tz": -330
    },
    "id": "dTJsDPBKq_hr",
    "outputId": "b80a5161-c5e1-41b2-a08c-56a05d64692c"
   },
   "outputs": [
    {
     "data": {
      "text/html": [
       "\n",
       "  <div id=\"df-f3ba4efa-fa68-450a-8613-e6acd033314e\">\n",
       "    <div class=\"colab-df-container\">\n",
       "      <div>\n",
       "<style scoped>\n",
       "    .dataframe tbody tr th:only-of-type {\n",
       "        vertical-align: middle;\n",
       "    }\n",
       "\n",
       "    .dataframe tbody tr th {\n",
       "        vertical-align: top;\n",
       "    }\n",
       "\n",
       "    .dataframe thead th {\n",
       "        text-align: right;\n",
       "    }\n",
       "</style>\n",
       "<table border=\"1\" class=\"dataframe\">\n",
       "  <thead>\n",
       "    <tr style=\"text-align: right;\">\n",
       "      <th></th>\n",
       "      <th>FP1</th>\n",
       "      <th>FP2</th>\n",
       "      <th>FP3</th>\n",
       "      <th>FP4</th>\n",
       "      <th>FP5</th>\n",
       "      <th>FP6</th>\n",
       "      <th>FP7</th>\n",
       "      <th>FP8</th>\n",
       "      <th>FP9</th>\n",
       "      <th>FP10</th>\n",
       "      <th>...</th>\n",
       "      <th>FP1015</th>\n",
       "      <th>FP1016</th>\n",
       "      <th>FP1017</th>\n",
       "      <th>FP1018</th>\n",
       "      <th>FP1019</th>\n",
       "      <th>FP1020</th>\n",
       "      <th>FP1021</th>\n",
       "      <th>FP1022</th>\n",
       "      <th>FP1023</th>\n",
       "      <th>FP1024</th>\n",
       "    </tr>\n",
       "  </thead>\n",
       "  <tbody>\n",
       "    <tr>\n",
       "      <th>0</th>\n",
       "      <td>0</td>\n",
       "      <td>0</td>\n",
       "      <td>0</td>\n",
       "      <td>0</td>\n",
       "      <td>0</td>\n",
       "      <td>1</td>\n",
       "      <td>0</td>\n",
       "      <td>0</td>\n",
       "      <td>0</td>\n",
       "      <td>0</td>\n",
       "      <td>...</td>\n",
       "      <td>1</td>\n",
       "      <td>0</td>\n",
       "      <td>0</td>\n",
       "      <td>0</td>\n",
       "      <td>0</td>\n",
       "      <td>0</td>\n",
       "      <td>0</td>\n",
       "      <td>0</td>\n",
       "      <td>0</td>\n",
       "      <td>0</td>\n",
       "    </tr>\n",
       "    <tr>\n",
       "      <th>1</th>\n",
       "      <td>0</td>\n",
       "      <td>0</td>\n",
       "      <td>0</td>\n",
       "      <td>0</td>\n",
       "      <td>0</td>\n",
       "      <td>0</td>\n",
       "      <td>0</td>\n",
       "      <td>0</td>\n",
       "      <td>0</td>\n",
       "      <td>0</td>\n",
       "      <td>...</td>\n",
       "      <td>0</td>\n",
       "      <td>0</td>\n",
       "      <td>0</td>\n",
       "      <td>0</td>\n",
       "      <td>1</td>\n",
       "      <td>0</td>\n",
       "      <td>0</td>\n",
       "      <td>0</td>\n",
       "      <td>0</td>\n",
       "      <td>0</td>\n",
       "    </tr>\n",
       "    <tr>\n",
       "      <th>2</th>\n",
       "      <td>0</td>\n",
       "      <td>0</td>\n",
       "      <td>0</td>\n",
       "      <td>0</td>\n",
       "      <td>0</td>\n",
       "      <td>1</td>\n",
       "      <td>0</td>\n",
       "      <td>0</td>\n",
       "      <td>0</td>\n",
       "      <td>0</td>\n",
       "      <td>...</td>\n",
       "      <td>1</td>\n",
       "      <td>0</td>\n",
       "      <td>0</td>\n",
       "      <td>0</td>\n",
       "      <td>0</td>\n",
       "      <td>0</td>\n",
       "      <td>0</td>\n",
       "      <td>0</td>\n",
       "      <td>0</td>\n",
       "      <td>0</td>\n",
       "    </tr>\n",
       "    <tr>\n",
       "      <th>3</th>\n",
       "      <td>0</td>\n",
       "      <td>0</td>\n",
       "      <td>0</td>\n",
       "      <td>0</td>\n",
       "      <td>0</td>\n",
       "      <td>0</td>\n",
       "      <td>0</td>\n",
       "      <td>0</td>\n",
       "      <td>0</td>\n",
       "      <td>0</td>\n",
       "      <td>...</td>\n",
       "      <td>0</td>\n",
       "      <td>1</td>\n",
       "      <td>0</td>\n",
       "      <td>0</td>\n",
       "      <td>0</td>\n",
       "      <td>0</td>\n",
       "      <td>0</td>\n",
       "      <td>0</td>\n",
       "      <td>0</td>\n",
       "      <td>0</td>\n",
       "    </tr>\n",
       "    <tr>\n",
       "      <th>4</th>\n",
       "      <td>0</td>\n",
       "      <td>0</td>\n",
       "      <td>0</td>\n",
       "      <td>0</td>\n",
       "      <td>0</td>\n",
       "      <td>0</td>\n",
       "      <td>0</td>\n",
       "      <td>0</td>\n",
       "      <td>0</td>\n",
       "      <td>0</td>\n",
       "      <td>...</td>\n",
       "      <td>0</td>\n",
       "      <td>1</td>\n",
       "      <td>0</td>\n",
       "      <td>0</td>\n",
       "      <td>0</td>\n",
       "      <td>0</td>\n",
       "      <td>0</td>\n",
       "      <td>0</td>\n",
       "      <td>0</td>\n",
       "      <td>0</td>\n",
       "    </tr>\n",
       "    <tr>\n",
       "      <th>...</th>\n",
       "      <td>...</td>\n",
       "      <td>...</td>\n",
       "      <td>...</td>\n",
       "      <td>...</td>\n",
       "      <td>...</td>\n",
       "      <td>...</td>\n",
       "      <td>...</td>\n",
       "      <td>...</td>\n",
       "      <td>...</td>\n",
       "      <td>...</td>\n",
       "      <td>...</td>\n",
       "      <td>...</td>\n",
       "      <td>...</td>\n",
       "      <td>...</td>\n",
       "      <td>...</td>\n",
       "      <td>...</td>\n",
       "      <td>...</td>\n",
       "      <td>...</td>\n",
       "      <td>...</td>\n",
       "      <td>...</td>\n",
       "      <td>...</td>\n",
       "    </tr>\n",
       "    <tr>\n",
       "      <th>6486</th>\n",
       "      <td>0</td>\n",
       "      <td>1</td>\n",
       "      <td>0</td>\n",
       "      <td>0</td>\n",
       "      <td>0</td>\n",
       "      <td>0</td>\n",
       "      <td>1</td>\n",
       "      <td>0</td>\n",
       "      <td>0</td>\n",
       "      <td>0</td>\n",
       "      <td>...</td>\n",
       "      <td>0</td>\n",
       "      <td>0</td>\n",
       "      <td>0</td>\n",
       "      <td>0</td>\n",
       "      <td>1</td>\n",
       "      <td>0</td>\n",
       "      <td>0</td>\n",
       "      <td>0</td>\n",
       "      <td>0</td>\n",
       "      <td>0</td>\n",
       "    </tr>\n",
       "    <tr>\n",
       "      <th>6487</th>\n",
       "      <td>0</td>\n",
       "      <td>1</td>\n",
       "      <td>1</td>\n",
       "      <td>0</td>\n",
       "      <td>0</td>\n",
       "      <td>0</td>\n",
       "      <td>1</td>\n",
       "      <td>0</td>\n",
       "      <td>0</td>\n",
       "      <td>0</td>\n",
       "      <td>...</td>\n",
       "      <td>0</td>\n",
       "      <td>0</td>\n",
       "      <td>0</td>\n",
       "      <td>0</td>\n",
       "      <td>0</td>\n",
       "      <td>1</td>\n",
       "      <td>0</td>\n",
       "      <td>0</td>\n",
       "      <td>0</td>\n",
       "      <td>0</td>\n",
       "    </tr>\n",
       "    <tr>\n",
       "      <th>6488</th>\n",
       "      <td>0</td>\n",
       "      <td>1</td>\n",
       "      <td>0</td>\n",
       "      <td>0</td>\n",
       "      <td>0</td>\n",
       "      <td>0</td>\n",
       "      <td>1</td>\n",
       "      <td>0</td>\n",
       "      <td>0</td>\n",
       "      <td>0</td>\n",
       "      <td>...</td>\n",
       "      <td>0</td>\n",
       "      <td>1</td>\n",
       "      <td>0</td>\n",
       "      <td>0</td>\n",
       "      <td>0</td>\n",
       "      <td>0</td>\n",
       "      <td>1</td>\n",
       "      <td>0</td>\n",
       "      <td>0</td>\n",
       "      <td>0</td>\n",
       "    </tr>\n",
       "    <tr>\n",
       "      <th>6489</th>\n",
       "      <td>1</td>\n",
       "      <td>1</td>\n",
       "      <td>0</td>\n",
       "      <td>0</td>\n",
       "      <td>0</td>\n",
       "      <td>0</td>\n",
       "      <td>1</td>\n",
       "      <td>0</td>\n",
       "      <td>0</td>\n",
       "      <td>0</td>\n",
       "      <td>...</td>\n",
       "      <td>0</td>\n",
       "      <td>0</td>\n",
       "      <td>0</td>\n",
       "      <td>0</td>\n",
       "      <td>0</td>\n",
       "      <td>0</td>\n",
       "      <td>0</td>\n",
       "      <td>0</td>\n",
       "      <td>0</td>\n",
       "      <td>0</td>\n",
       "    </tr>\n",
       "    <tr>\n",
       "      <th>6490</th>\n",
       "      <td>0</td>\n",
       "      <td>1</td>\n",
       "      <td>0</td>\n",
       "      <td>0</td>\n",
       "      <td>0</td>\n",
       "      <td>0</td>\n",
       "      <td>1</td>\n",
       "      <td>0</td>\n",
       "      <td>0</td>\n",
       "      <td>0</td>\n",
       "      <td>...</td>\n",
       "      <td>0</td>\n",
       "      <td>0</td>\n",
       "      <td>0</td>\n",
       "      <td>0</td>\n",
       "      <td>0</td>\n",
       "      <td>0</td>\n",
       "      <td>0</td>\n",
       "      <td>0</td>\n",
       "      <td>0</td>\n",
       "      <td>0</td>\n",
       "    </tr>\n",
       "  </tbody>\n",
       "</table>\n",
       "<p>6491 rows × 1024 columns</p>\n",
       "</div>\n",
       "      <button class=\"colab-df-convert\" onclick=\"convertToInteractive('df-f3ba4efa-fa68-450a-8613-e6acd033314e')\"\n",
       "              title=\"Convert this dataframe to an interactive table.\"\n",
       "              style=\"display:none;\">\n",
       "        \n",
       "  <svg xmlns=\"http://www.w3.org/2000/svg\" height=\"24px\"viewBox=\"0 0 24 24\"\n",
       "       width=\"24px\">\n",
       "    <path d=\"M0 0h24v24H0V0z\" fill=\"none\"/>\n",
       "    <path d=\"M18.56 5.44l.94 2.06.94-2.06 2.06-.94-2.06-.94-.94-2.06-.94 2.06-2.06.94zm-11 1L8.5 8.5l.94-2.06 2.06-.94-2.06-.94L8.5 2.5l-.94 2.06-2.06.94zm10 10l.94 2.06.94-2.06 2.06-.94-2.06-.94-.94-2.06-.94 2.06-2.06.94z\"/><path d=\"M17.41 7.96l-1.37-1.37c-.4-.4-.92-.59-1.43-.59-.52 0-1.04.2-1.43.59L10.3 9.45l-7.72 7.72c-.78.78-.78 2.05 0 2.83L4 21.41c.39.39.9.59 1.41.59.51 0 1.02-.2 1.41-.59l7.78-7.78 2.81-2.81c.8-.78.8-2.07 0-2.86zM5.41 20L4 18.59l7.72-7.72 1.47 1.35L5.41 20z\"/>\n",
       "  </svg>\n",
       "      </button>\n",
       "      \n",
       "  <style>\n",
       "    .colab-df-container {\n",
       "      display:flex;\n",
       "      flex-wrap:wrap;\n",
       "      gap: 12px;\n",
       "    }\n",
       "\n",
       "    .colab-df-convert {\n",
       "      background-color: #E8F0FE;\n",
       "      border: none;\n",
       "      border-radius: 50%;\n",
       "      cursor: pointer;\n",
       "      display: none;\n",
       "      fill: #1967D2;\n",
       "      height: 32px;\n",
       "      padding: 0 0 0 0;\n",
       "      width: 32px;\n",
       "    }\n",
       "\n",
       "    .colab-df-convert:hover {\n",
       "      background-color: #E2EBFA;\n",
       "      box-shadow: 0px 1px 2px rgba(60, 64, 67, 0.3), 0px 1px 3px 1px rgba(60, 64, 67, 0.15);\n",
       "      fill: #174EA6;\n",
       "    }\n",
       "\n",
       "    [theme=dark] .colab-df-convert {\n",
       "      background-color: #3B4455;\n",
       "      fill: #D2E3FC;\n",
       "    }\n",
       "\n",
       "    [theme=dark] .colab-df-convert:hover {\n",
       "      background-color: #434B5C;\n",
       "      box-shadow: 0px 1px 3px 1px rgba(0, 0, 0, 0.15);\n",
       "      filter: drop-shadow(0px 1px 2px rgba(0, 0, 0, 0.3));\n",
       "      fill: #FFFFFF;\n",
       "    }\n",
       "  </style>\n",
       "\n",
       "      <script>\n",
       "        const buttonEl =\n",
       "          document.querySelector('#df-f3ba4efa-fa68-450a-8613-e6acd033314e button.colab-df-convert');\n",
       "        buttonEl.style.display =\n",
       "          google.colab.kernel.accessAllowed ? 'block' : 'none';\n",
       "\n",
       "        async function convertToInteractive(key) {\n",
       "          const element = document.querySelector('#df-f3ba4efa-fa68-450a-8613-e6acd033314e');\n",
       "          const dataTable =\n",
       "            await google.colab.kernel.invokeFunction('convertToInteractive',\n",
       "                                                     [key], {});\n",
       "          if (!dataTable) return;\n",
       "\n",
       "          const docLinkHtml = 'Like what you see? Visit the ' +\n",
       "            '<a target=\"_blank\" href=https://colab.research.google.com/notebooks/data_table.ipynb>data table notebook</a>'\n",
       "            + ' to learn more about interactive tables.';\n",
       "          element.innerHTML = '';\n",
       "          dataTable['output_type'] = 'display_data';\n",
       "          await google.colab.output.renderOutput(dataTable, element);\n",
       "          const docLink = document.createElement('div');\n",
       "          docLink.innerHTML = docLinkHtml;\n",
       "          element.appendChild(docLink);\n",
       "        }\n",
       "      </script>\n",
       "    </div>\n",
       "  </div>\n",
       "  "
      ],
      "text/plain": [
       "      FP1  FP2  FP3  FP4  FP5  FP6  FP7  FP8  FP9  FP10  ...  FP1015  FP1016  \\\n",
       "0       0    0    0    0    0    1    0    0    0     0  ...       1       0   \n",
       "1       0    0    0    0    0    0    0    0    0     0  ...       0       0   \n",
       "2       0    0    0    0    0    1    0    0    0     0  ...       1       0   \n",
       "3       0    0    0    0    0    0    0    0    0     0  ...       0       1   \n",
       "4       0    0    0    0    0    0    0    0    0     0  ...       0       1   \n",
       "...   ...  ...  ...  ...  ...  ...  ...  ...  ...   ...  ...     ...     ...   \n",
       "6486    0    1    0    0    0    0    1    0    0     0  ...       0       0   \n",
       "6487    0    1    1    0    0    0    1    0    0     0  ...       0       0   \n",
       "6488    0    1    0    0    0    0    1    0    0     0  ...       0       1   \n",
       "6489    1    1    0    0    0    0    1    0    0     0  ...       0       0   \n",
       "6490    0    1    0    0    0    0    1    0    0     0  ...       0       0   \n",
       "\n",
       "      FP1017  FP1018  FP1019  FP1020  FP1021  FP1022  FP1023  FP1024  \n",
       "0          0       0       0       0       0       0       0       0  \n",
       "1          0       0       1       0       0       0       0       0  \n",
       "2          0       0       0       0       0       0       0       0  \n",
       "3          0       0       0       0       0       0       0       0  \n",
       "4          0       0       0       0       0       0       0       0  \n",
       "...      ...     ...     ...     ...     ...     ...     ...     ...  \n",
       "6486       0       0       1       0       0       0       0       0  \n",
       "6487       0       0       0       1       0       0       0       0  \n",
       "6488       0       0       0       0       1       0       0       0  \n",
       "6489       0       0       0       0       0       0       0       0  \n",
       "6490       0       0       0       0       0       0       0       0  \n",
       "\n",
       "[6491 rows x 1024 columns]"
      ]
     },
     "execution_count": 18,
     "metadata": {},
     "output_type": "execute_result"
    }
   ],
   "source": [
    "# df3_X = df3_X.drop(columns=['Name'])\n",
    "df3_X = df3_X.drop(columns=['pIC50.1'])\n",
    "df3_X"
   ]
  },
  {
   "cell_type": "markdown",
   "metadata": {
    "id": "6ePu814KZNBG"
   },
   "source": [
    "## **Y variable**"
   ]
  },
  {
   "cell_type": "markdown",
   "metadata": {
    "id": "9ssfxFCdr7ua"
   },
   "source": [
    "### **Convert IC50 to pIC50**"
   ]
  },
  {
   "cell_type": "code",
   "execution_count": 19,
   "metadata": {
    "colab": {
     "base_uri": "https://localhost:8080/"
    },
    "executionInfo": {
     "elapsed": 737,
     "status": "ok",
     "timestamp": 1675167270411,
     "user": {
      "displayName": "rahul-a-t",
      "userId": "13570130994512892155"
     },
     "user_tz": -330
    },
    "id": "FlhsSEW5FXTG",
    "outputId": "32ffac28-cf6a-4e9f-f8c7-f75202695688"
   },
   "outputs": [
    {
     "data": {
      "text/plain": [
       "0           inactive\n",
       "1       intermediate\n",
       "2           inactive\n",
       "3       intermediate\n",
       "4           inactive\n",
       "            ...     \n",
       "6486          active\n",
       "6487          active\n",
       "6488          active\n",
       "6489          active\n",
       "6490          active\n",
       "Name: class, Length: 6491, dtype: object"
      ]
     },
     "execution_count": 19,
     "metadata": {},
     "output_type": "execute_result"
    }
   ],
   "source": [
    "# df3_Y = df3['pIC50']\n",
    "df3_Y = df3['class']\n",
    "df3_Y"
   ]
  },
  {
   "cell_type": "markdown",
   "metadata": {
    "id": "eET6iZ1Aw3oe"
   },
   "source": [
    "## **Combining X and Y variable**"
   ]
  },
  {
   "cell_type": "code",
   "execution_count": null,
   "metadata": {
    "id": "FRBfBP3QxFJp"
   },
   "outputs": [],
   "source": [
    "dataset3 = pd.concat([df3_X,df3_Y], axis=1)\n",
    "dataset3"
   ]
  },
  {
   "cell_type": "code",
   "execution_count": null,
   "metadata": {
    "id": "75npGyvhae0e"
   },
   "outputs": [],
   "source": [
    "dataset3.to_csv('Leishmania_06_bioactivity_data_3class_pIC50_pubchem_fp.csv', index=False)"
   ]
  },
  {
   "cell_type": "markdown",
   "metadata": {
    "id": "nFpLoNRHeRa6"
   },
   "source": [
    "# **Let's download the CSV file to your local computer for the Part 3B (Model Building).**"
   ]
  }
 ],
 "metadata": {
  "colab": {
   "provenance": [
    {
     "file_id": "https://github.com/dataprofessor/code/blob/master/python/CDD_ML_Part_3_Acetylcholinesterase_Descriptor_Dataset_Preparation.ipynb",
     "timestamp": 1665924543686
    }
   ]
  },
  "kernelspec": {
   "display_name": "Python 3",
   "name": "python3"
  }
 },
 "nbformat": 4,
 "nbformat_minor": 0
}
